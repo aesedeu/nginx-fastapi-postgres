{
 "cells": [
  {
   "cell_type": "markdown",
   "metadata": {},
   "source": [
    "# FastAPI Application Usage Examples\n",
    "\n",
    "This notebook demonstrates how to interact with our FastAPI application using the `requests` module.\n",
    "Make sure the Docker containers are running before executing these examples."
   ]
  },
  {
   "cell_type": "code",
   "execution_count": 1,
   "metadata": {},
   "outputs": [],
   "source": [
    "import requests\n",
    "import json\n",
    "from datetime import datetime\n",
    "\n",
    "# Base URL for our API (nginx load balancer)\n",
    "BASE_URL = \"http://localhost\""
   ]
  },
  {
   "cell_type": "markdown",
   "metadata": {},
   "source": [
    "## 1. Creating Users\n",
    "\n",
    "Let's create a few example users to work with."
   ]
  },
  {
   "cell_type": "code",
   "execution_count": 2,
   "metadata": {},
   "outputs": [
    {
     "name": "stdout",
     "output_type": "stream",
     "text": [
      "User 1 created: {\n",
      "  \"username\": \"john_doe\",\n",
      "  \"email\": \"john@example.com\",\n",
      "  \"id\": 1\n",
      "}\n",
      "\n",
      "User 2 created: {\n",
      "  \"username\": \"jane_smith\",\n",
      "  \"email\": \"jane@example.com\",\n",
      "  \"id\": 2\n",
      "}\n"
     ]
    }
   ],
   "source": [
    "def create_user(username, email):\n",
    "    response = requests.post(\n",
    "        f\"{BASE_URL}/users/\",\n",
    "        json={\"username\": username, \"email\": email}\n",
    "    )\n",
    "    return response.json()\n",
    "\n",
    "# Create two example users\n",
    "user1 = create_user(\"john_doe\", \"john@example.com\")\n",
    "print(\"User 1 created:\", json.dumps(user1, indent=2))\n",
    "\n",
    "user2 = create_user(\"jane_smith\", \"jane@example.com\")\n",
    "print(\"\\nUser 2 created:\", json.dumps(user2, indent=2))"
   ]
  },
  {
   "cell_type": "markdown",
   "metadata": {},
   "source": [
    "## 2. Adding Purchases\n",
    "\n",
    "Now let's add some purchases for our users."
   ]
  },
  {
   "cell_type": "code",
   "execution_count": 3,
   "metadata": {},
   "outputs": [
    {
     "name": "stdout",
     "output_type": "stream",
     "text": [
      "Purchase 1 created: {\n",
      "  \"sku_name\": \"Laptop\",\n",
      "  \"price\": 999.99,\n",
      "  \"quantity\": 1,\n",
      "  \"id\": 1,\n",
      "  \"user_id\": 1,\n",
      "  \"datetime\": \"2025-06-08T13:57:18.740952\"\n",
      "}\n",
      "\n",
      "Purchase 2 created: {\n",
      "  \"sku_name\": \"Mouse\",\n",
      "  \"price\": 29.99,\n",
      "  \"quantity\": 2,\n",
      "  \"id\": 2,\n",
      "  \"user_id\": 1,\n",
      "  \"datetime\": \"2025-06-08T13:57:18.768154\"\n",
      "}\n",
      "\n",
      "Purchase 3 created: {\n",
      "  \"sku_name\": \"Keyboard\",\n",
      "  \"price\": 89.99,\n",
      "  \"quantity\": 1,\n",
      "  \"id\": 3,\n",
      "  \"user_id\": 2,\n",
      "  \"datetime\": \"2025-06-08T13:57:18.782817\"\n",
      "}\n"
     ]
    }
   ],
   "source": [
    "def create_purchase(user_id, sku_name, price, quantity):\n",
    "    response = requests.post(\n",
    "        f\"{BASE_URL}/purchases/\",\n",
    "        json={\n",
    "            \"user_id\": user_id,\n",
    "            \"sku_name\": sku_name,\n",
    "            \"price\": price,\n",
    "            \"quantity\": quantity\n",
    "        }\n",
    "    )\n",
    "    return response.json()\n",
    "\n",
    "# Add purchases for user1\n",
    "purchase1 = create_purchase(user1[\"id\"], \"Laptop\", 999.99, 1)\n",
    "print(\"Purchase 1 created:\", json.dumps(purchase1, indent=2))\n",
    "\n",
    "purchase2 = create_purchase(user1[\"id\"], \"Mouse\", 29.99, 2)\n",
    "print(\"\\nPurchase 2 created:\", json.dumps(purchase2, indent=2))\n",
    "\n",
    "# Add purchases for user2\n",
    "purchase3 = create_purchase(user2[\"id\"], \"Keyboard\", 89.99, 1)\n",
    "print(\"\\nPurchase 3 created:\", json.dumps(purchase3, indent=2))"
   ]
  },
  {
   "cell_type": "markdown",
   "metadata": {},
   "source": [
    "## 3. Retrieving User Purchases\n",
    "\n",
    "Let's get the purchase history for our users."
   ]
  },
  {
   "cell_type": "code",
   "execution_count": 13,
   "metadata": {},
   "outputs": [
    {
     "name": "stdout",
     "output_type": "stream",
     "text": [
      "Purchases for user john_doe:\n",
      "[\n",
      "  {\n",
      "    \"sku_name\": \"Mouse\",\n",
      "    \"price\": 29.99,\n",
      "    \"quantity\": 2,\n",
      "    \"id\": 2,\n",
      "    \"user_id\": 1,\n",
      "    \"datetime\": \"2025-06-08T13:57:18.768154\"\n",
      "  },\n",
      "  {\n",
      "    \"sku_name\": \"Laptop\",\n",
      "    \"price\": 999.99,\n",
      "    \"quantity\": 1,\n",
      "    \"id\": 1,\n",
      "    \"user_id\": 1,\n",
      "    \"datetime\": \"2025-06-08T13:57:18.740952\"\n",
      "  }\n",
      "]\n"
     ]
    }
   ],
   "source": [
    "def get_user_purchases(user_id):\n",
    "    response = requests.get(f\"{BASE_URL}/users/{user_id}/purchases/\")\n",
    "    return response.json()\n",
    "\n",
    "# Get purchases for user1\n",
    "user1_purchases = get_user_purchases(user1[\"id\"])\n",
    "print(f\"Purchases for user {user1['username']}:\")\n",
    "print(json.dumps(user1_purchases, indent=2))"
   ]
  },
  {
   "cell_type": "code",
   "execution_count": 21,
   "metadata": {},
   "outputs": [
    {
     "name": "stdout",
     "output_type": "stream",
     "text": [
      "\n",
      "Purchases for user jane_smith:\n",
      "[\n",
      "  {\n",
      "    \"sku_name\": \"Keyboard\",\n",
      "    \"price\": 89.99,\n",
      "    \"quantity\": 1,\n",
      "    \"id\": 3,\n",
      "    \"user_id\": 2,\n",
      "    \"datetime\": \"2025-06-08T13:57:18.782817\"\n",
      "  }\n",
      "]\n"
     ]
    }
   ],
   "source": [
    "# Get purchases for user2\n",
    "print(f\"\\nPurchases for user {user2['username']}:\")\n",
    "user2_purchases = get_user_purchases(user2[\"id\"])\n",
    "print(json.dumps(user2_purchases, indent=2))"
   ]
  },
  {
   "cell_type": "code",
   "execution_count": null,
   "metadata": {},
   "outputs": [],
   "source": []
  }
 ],
 "metadata": {
  "kernelspec": {
   "display_name": "Python 3",
   "language": "python",
   "name": "python3"
  },
  "language_info": {
   "codemirror_mode": {
    "name": "ipython",
    "version": 3
   },
   "file_extension": ".py",
   "mimetype": "text/x-python",
   "name": "python",
   "nbconvert_exporter": "python",
   "pygments_lexer": "ipython3",
   "version": "3.11.12"
  }
 },
 "nbformat": 4,
 "nbformat_minor": 4
}
